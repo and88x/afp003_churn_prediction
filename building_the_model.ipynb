{
 "cells": [
  {
   "cell_type": "markdown",
   "id": "2bd4d84d-acfa-4960-b054-8a2ebb89dc5a",
   "metadata": {},
   "source": [
    "## Building the ML model\n",
    "### Adding the usual imports and configurations"
   ]
  },
  {
   "cell_type": "code",
   "execution_count": 1,
   "id": "6d629033-9fcc-46c4-abc1-46b0b0a157d6",
   "metadata": {},
   "outputs": [],
   "source": [
    "from pandas import read_csv, to_datetime, unique, DataFrame, to_numeric\n",
    "from warnings import filterwarnings\n",
    "from numpy import array\n",
    "from IPython.display import display\n",
    "from src.utils import *\n",
    "\n",
    "from sklearn.model_selection import train_test_split, KFold\n",
    "from sklearn.feature_extraction import DictVectorizer\n",
    "from sklearn.metrics import roc_auc_score\n",
    "\n",
    "from xgboost import XGBClassifier, plot_importance, plot_tree\n",
    "import matplotlib.pyplot as plt\n",
    "\n",
    "plt.style.use(\"fivethirtyeight\")\n",
    "\n",
    "filterwarnings(\"ignore\")\n",
    "%load_ext autoreload\n",
    "%autoreload 2\n",
    "%config Completer.use_jedi = False"
   ]
  },
  {
   "cell_type": "markdown",
   "id": "7a631a76-e66d-49b0-a070-e7edc3ddad01",
   "metadata": {},
   "source": [
    "### Initial data preparation  \n",
    "Reading the data and transforming some feature types"
   ]
  },
  {
   "cell_type": "code",
   "execution_count": 2,
   "id": "98a85d2f-7fdd-4d96-b328-fb2bf1af35e5",
   "metadata": {},
   "outputs": [
    {
     "name": "stdout",
     "output_type": "stream",
     "text": [
      "<class 'pandas.core.frame.DataFrame'>\n",
      "RangeIndex: 10000 entries, 0 to 9999\n",
      "Data columns (total 14 columns):\n",
      " #   Column            Non-Null Count  Dtype  \n",
      "---  ------            --------------  -----  \n",
      " 0   CustomerId        10000 non-null  int64  \n",
      " 1   Surname           10000 non-null  object \n",
      " 2   Geography         10000 non-null  object \n",
      " 3   Gender            10000 non-null  object \n",
      " 4   HasCrCard         10000 non-null  float64\n",
      " 5   IsActiveMember    10000 non-null  float64\n",
      " 6   EstimatedSalary   10000 non-null  float64\n",
      " 7   application_date  10000 non-null  object \n",
      " 8   exit_date         7183 non-null   object \n",
      " 9   birth_date        10000 non-null  object \n",
      " 10  age               10000 non-null  float64\n",
      " 11  products          10000 non-null  int64  \n",
      " 12  balance           10000 non-null  float64\n",
      " 13  score             10000 non-null  float64\n",
      "dtypes: float64(6), int64(2), object(6)\n",
      "memory usage: 1.1+ MB\n"
     ]
    }
   ],
   "source": [
    "# Reading the filtered dataset\n",
    "df = read_csv(\"./databases/cleaned_clients.csv\")\n",
    "\n",
    "# Checking that all features have a correct type\n",
    "df.info()"
   ]
  },
  {
   "cell_type": "code",
   "execution_count": 3,
   "id": "e0461122-d41f-468d-9470-62abdf5cf20e",
   "metadata": {},
   "outputs": [],
   "source": [
    "# Correcting the wrong types\n",
    "df['application_date'] = to_datetime(df['application_date'])\n",
    "df['exit_date'] = to_datetime(df['exit_date'])\n",
    "df['birth_date'] = to_datetime(df['birth_date'])"
   ]
  },
  {
   "cell_type": "markdown",
   "id": "ad6a36ea-aa92-4d1d-b704-d8170b6b88d6",
   "metadata": {},
   "source": [
    "The only feature that has null values is **exit_date**. How all other features are completed, it is not necessary to perform any other transformation."
   ]
  },
  {
   "cell_type": "code",
   "execution_count": 4,
   "id": "ee1ec50c-42d4-49d6-bc62-24a4370bab65",
   "metadata": {},
   "outputs": [
    {
     "data": {
      "text/html": [
       "<div>\n",
       "<style scoped>\n",
       "    .dataframe tbody tr th:only-of-type {\n",
       "        vertical-align: middle;\n",
       "    }\n",
       "\n",
       "    .dataframe tbody tr th {\n",
       "        vertical-align: top;\n",
       "    }\n",
       "\n",
       "    .dataframe thead th {\n",
       "        text-align: right;\n",
       "    }\n",
       "</style>\n",
       "<table border=\"1\" class=\"dataframe\">\n",
       "  <thead>\n",
       "    <tr style=\"text-align: right;\">\n",
       "      <th></th>\n",
       "      <th>0</th>\n",
       "      <th>1</th>\n",
       "      <th>2</th>\n",
       "      <th>3</th>\n",
       "      <th>4</th>\n",
       "    </tr>\n",
       "  </thead>\n",
       "  <tbody>\n",
       "    <tr>\n",
       "      <th>CustomerId</th>\n",
       "      <td>15610711</td>\n",
       "      <td>15764170</td>\n",
       "      <td>15594720</td>\n",
       "      <td>15706552</td>\n",
       "      <td>15785358</td>\n",
       "    </tr>\n",
       "    <tr>\n",
       "      <th>Surname</th>\n",
       "      <td>Eluemuno</td>\n",
       "      <td>Pinto</td>\n",
       "      <td>Scott</td>\n",
       "      <td>Odinakachukwu</td>\n",
       "      <td>Gresswell</td>\n",
       "    </tr>\n",
       "    <tr>\n",
       "      <th>Geography</th>\n",
       "      <td>Germany</td>\n",
       "      <td>Germany</td>\n",
       "      <td>Germany</td>\n",
       "      <td>France</td>\n",
       "      <td>Germany</td>\n",
       "    </tr>\n",
       "    <tr>\n",
       "      <th>Gender</th>\n",
       "      <td>Female</td>\n",
       "      <td>Male</td>\n",
       "      <td>Female</td>\n",
       "      <td>Male</td>\n",
       "      <td>Male</td>\n",
       "    </tr>\n",
       "    <tr>\n",
       "      <th>HasCrCard</th>\n",
       "      <td>0.0</td>\n",
       "      <td>1.0</td>\n",
       "      <td>1.0</td>\n",
       "      <td>0.0</td>\n",
       "      <td>1.0</td>\n",
       "    </tr>\n",
       "    <tr>\n",
       "      <th>IsActiveMember</th>\n",
       "      <td>0.0</td>\n",
       "      <td>0.0</td>\n",
       "      <td>1.0</td>\n",
       "      <td>1.0</td>\n",
       "      <td>1.0</td>\n",
       "    </tr>\n",
       "    <tr>\n",
       "      <th>EstimatedSalary</th>\n",
       "      <td>167673.37</td>\n",
       "      <td>36579.53</td>\n",
       "      <td>189339.6</td>\n",
       "      <td>156731.91</td>\n",
       "      <td>79366.98</td>\n",
       "    </tr>\n",
       "    <tr>\n",
       "      <th>application_date</th>\n",
       "      <td>2017-03-05 00:00:00</td>\n",
       "      <td>2017-02-05 00:00:00</td>\n",
       "      <td>2017-11-08 00:00:00</td>\n",
       "      <td>2016-02-15 00:00:00</td>\n",
       "      <td>2016-09-17 00:00:00</td>\n",
       "    </tr>\n",
       "    <tr>\n",
       "      <th>exit_date</th>\n",
       "      <td>2019-11-27 00:00:00</td>\n",
       "      <td>2018-10-11 00:00:00</td>\n",
       "      <td>NaT</td>\n",
       "      <td>2019-10-02 00:00:00</td>\n",
       "      <td>2016-12-20 00:00:00</td>\n",
       "    </tr>\n",
       "    <tr>\n",
       "      <th>birth_date</th>\n",
       "      <td>1976-10-21 00:00:00</td>\n",
       "      <td>1972-04-02 00:00:00</td>\n",
       "      <td>1982-05-14 00:00:00</td>\n",
       "      <td>1979-09-09 00:00:00</td>\n",
       "      <td>1969-11-11 00:00:00</td>\n",
       "    </tr>\n",
       "    <tr>\n",
       "      <th>age</th>\n",
       "      <td>40.0</td>\n",
       "      <td>45.0</td>\n",
       "      <td>35.0</td>\n",
       "      <td>37.0</td>\n",
       "      <td>47.0</td>\n",
       "    </tr>\n",
       "    <tr>\n",
       "      <th>products</th>\n",
       "      <td>1</td>\n",
       "      <td>1</td>\n",
       "      <td>2</td>\n",
       "      <td>1</td>\n",
       "      <td>1</td>\n",
       "    </tr>\n",
       "    <tr>\n",
       "      <th>balance</th>\n",
       "      <td>128644.46</td>\n",
       "      <td>93960.35</td>\n",
       "      <td>102742.91</td>\n",
       "      <td>85311.7</td>\n",
       "      <td>106968.96</td>\n",
       "    </tr>\n",
       "    <tr>\n",
       "      <th>score</th>\n",
       "      <td>678.0</td>\n",
       "      <td>647.0</td>\n",
       "      <td>460.0</td>\n",
       "      <td>533.0</td>\n",
       "      <td>586.0</td>\n",
       "    </tr>\n",
       "    <tr>\n",
       "      <th>c_days</th>\n",
       "      <td>997.0</td>\n",
       "      <td>613.0</td>\n",
       "      <td>NaN</td>\n",
       "      <td>1325.0</td>\n",
       "      <td>94.0</td>\n",
       "    </tr>\n",
       "    <tr>\n",
       "      <th>churn</th>\n",
       "      <td>0</td>\n",
       "      <td>1</td>\n",
       "      <td>0</td>\n",
       "      <td>0</td>\n",
       "      <td>1</td>\n",
       "    </tr>\n",
       "  </tbody>\n",
       "</table>\n",
       "</div>"
      ],
      "text/plain": [
       "                                    0                    1  \\\n",
       "CustomerId                   15610711             15764170   \n",
       "Surname                      Eluemuno                Pinto   \n",
       "Geography                     Germany              Germany   \n",
       "Gender                         Female                 Male   \n",
       "HasCrCard                         0.0                  1.0   \n",
       "IsActiveMember                    0.0                  0.0   \n",
       "EstimatedSalary             167673.37             36579.53   \n",
       "application_date  2017-03-05 00:00:00  2017-02-05 00:00:00   \n",
       "exit_date         2019-11-27 00:00:00  2018-10-11 00:00:00   \n",
       "birth_date        1976-10-21 00:00:00  1972-04-02 00:00:00   \n",
       "age                              40.0                 45.0   \n",
       "products                            1                    1   \n",
       "balance                     128644.46             93960.35   \n",
       "score                           678.0                647.0   \n",
       "c_days                          997.0                613.0   \n",
       "churn                               0                    1   \n",
       "\n",
       "                                    2                    3  \\\n",
       "CustomerId                   15594720             15706552   \n",
       "Surname                         Scott        Odinakachukwu   \n",
       "Geography                     Germany               France   \n",
       "Gender                         Female                 Male   \n",
       "HasCrCard                         1.0                  0.0   \n",
       "IsActiveMember                    1.0                  1.0   \n",
       "EstimatedSalary              189339.6            156731.91   \n",
       "application_date  2017-11-08 00:00:00  2016-02-15 00:00:00   \n",
       "exit_date                         NaT  2019-10-02 00:00:00   \n",
       "birth_date        1982-05-14 00:00:00  1979-09-09 00:00:00   \n",
       "age                              35.0                 37.0   \n",
       "products                            2                    1   \n",
       "balance                     102742.91              85311.7   \n",
       "score                           460.0                533.0   \n",
       "c_days                            NaN               1325.0   \n",
       "churn                               0                    0   \n",
       "\n",
       "                                    4  \n",
       "CustomerId                   15785358  \n",
       "Surname                     Gresswell  \n",
       "Geography                     Germany  \n",
       "Gender                           Male  \n",
       "HasCrCard                         1.0  \n",
       "IsActiveMember                    1.0  \n",
       "EstimatedSalary              79366.98  \n",
       "application_date  2016-09-17 00:00:00  \n",
       "exit_date         2016-12-20 00:00:00  \n",
       "birth_date        1969-11-11 00:00:00  \n",
       "age                              47.0  \n",
       "products                            1  \n",
       "balance                     106968.96  \n",
       "score                           586.0  \n",
       "c_days                           94.0  \n",
       "churn                               1  "
      ]
     },
     "execution_count": 4,
     "metadata": {},
     "output_type": "execute_result"
    }
   ],
   "source": [
    "# days between application_date and exit_date\n",
    "df['c_days'] = (df['exit_date'] - df['application_date']).dt.days\n",
    "df['churn'] = df['c_days'] <= 730\n",
    "df.churn = df.churn.astype(int)\n",
    "\n",
    "#df.to_csv(path_or_buf='./databases/df_for_R.csv', index=False)\n",
    "df.head().T"
   ]
  },
  {
   "cell_type": "markdown",
   "id": "3c1aea79-bbf7-4768-a888-c9177aa9eab2",
   "metadata": {},
   "source": [
    "Let’s look at our target variable: **churn**. For binary classification, all models typically expect a number as 0 for don't leave the service before two years and 1 for leaving it before two years."
   ]
  },
  {
   "cell_type": "markdown",
   "id": "976dcc1c-1bdb-4bfa-8e2f-80a2f27021ea",
   "metadata": {},
   "source": [
    "#### Splitting datasets"
   ]
  },
  {
   "cell_type": "markdown",
   "id": "596c4f61-d85c-4a8c-95e8-cd7a48a77ed4",
   "metadata": {},
   "source": [
    "Now, we need to split our dataset into training, validation, and test sets."
   ]
  },
  {
   "cell_type": "code",
   "execution_count": 5,
   "id": "acc3f1e0-2ec0-4038-8a55-e934265ced59",
   "metadata": {},
   "outputs": [],
   "source": [
    "# selected features\n",
    "features = [\n",
    "    \"churn\",\n",
    "    \"Gender\",\n",
    "    \"Geography\",\n",
    "    \"HasCrCard\",\n",
    "    \"IsActiveMember\",\n",
    "    \"EstimatedSalary\",\n",
    "    \"age\",\n",
    "    \"products\",\n",
    "    \"balance\",\n",
    "    \"score\",\n",
    "]\n",
    "\n",
    "# test set\n",
    "df_train_full, df_test = train_test_split(\n",
    "    df[features], test_size=0.2, random_state=123\n",
    ")\n",
    "\n",
    "# train and validation sets\n",
    "df_train, df_val = train_test_split(\n",
    "    df_train_full, test_size=0.33, random_state=321\n",
    ")\n",
    "\n",
    "# target feature\n",
    "y_train = df_train.churn.values\n",
    "y_val = df_val.churn.values\n",
    "y_test = df_test.churn.values\n",
    "\n",
    "# delete the target feature to avoid confusions\n",
    "del df_train[\"churn\"]\n",
    "del df_val[\"churn\"]\n",
    "del df_test[\"churn\"]"
   ]
  },
  {
   "cell_type": "markdown",
   "id": "eeca8220-00ae-4341-b25d-8f5f262c23ad",
   "metadata": {},
   "source": [
    "### Exploratory data analysis"
   ]
  },
  {
   "cell_type": "markdown",
   "id": "b1a9aaf3-6f27-4a3e-bafa-13ade8968ae6",
   "metadata": {},
   "source": [
    "Checking the distribution of values in the target variable. "
   ]
  },
  {
   "cell_type": "code",
   "execution_count": 6,
   "id": "001100f3-6531-4d5b-b11c-ac29069ae8cb",
   "metadata": {},
   "outputs": [
    {
     "data": {
      "text/plain": [
       "0    0.798625\n",
       "1    0.201375\n",
       "Name: churn, dtype: float64"
      ]
     },
     "execution_count": 6,
     "metadata": {},
     "output_type": "execute_result"
    }
   ],
   "source": [
    "# distribution on percentages\n",
    "df_train_full.churn.value_counts()/len(df_train_full)"
   ]
  },
  {
   "cell_type": "markdown",
   "id": "10a2f1a2-9349-4f71-9887-f3562cef5837",
   "metadata": {},
   "source": [
    "We can see that approximately 0.79% of customers stopped using the \"Kin Safety\" service within two years. \n",
    "\n",
    "We can separate categorical and numerical features to analyze it, so:"
   ]
  },
  {
   "cell_type": "code",
   "execution_count": 7,
   "id": "8607beed-73c0-4ec4-9f92-26a674dc39ed",
   "metadata": {},
   "outputs": [],
   "source": [
    "categorical = [\"Gender\", \"Geography\", \"HasCrCard\", \"IsActiveMember\"]\n",
    "numerical = [\n",
    "    \"EstimatedSalary\",\n",
    "    \"age\",\n",
    "    \"products\",\n",
    "    \"balance\",\n",
    "    \"score\",\n",
    "]\n",
    "\n",
    "# y_full = df_train_full.churn.values\n",
    "# del df_train_full[\"churn\"]"
   ]
  },
  {
   "cell_type": "markdown",
   "id": "416909cc-4671-4da2-bae0-0a7c6bca5cda",
   "metadata": {},
   "source": [
    "We can analize the unique values of categorical data:"
   ]
  },
  {
   "cell_type": "code",
   "execution_count": 8,
   "id": "e9ab3f2c-f732-443d-982f-ecbcdf4229bc",
   "metadata": {},
   "outputs": [
    {
     "data": {
      "text/plain": [
       "Gender            2\n",
       "Geography         3\n",
       "HasCrCard         2\n",
       "IsActiveMember    2\n",
       "dtype: int64"
      ]
     },
     "execution_count": 8,
     "metadata": {},
     "output_type": "execute_result"
    }
   ],
   "source": [
    "df_train_full[categorical].nunique()"
   ]
  },
  {
   "cell_type": "markdown",
   "id": "9c72281a-979b-4068-9dac-c580f2838bd5",
   "metadata": {},
   "source": [
    "How the data have two or three values is not necessary to perform more transformations."
   ]
  },
  {
   "cell_type": "markdown",
   "id": "24a12bc4-68f3-4218-aa86-e7a57cd77c7c",
   "metadata": {},
   "source": [
    "<!-- ### Reducing the model complexity -->"
   ]
  },
  {
   "cell_type": "code",
   "execution_count": 9,
   "id": "682b5dee-f32b-48de-b05b-4f385946ed3d",
   "metadata": {},
   "outputs": [],
   "source": [
    "# no_churn_users = df_train_full[df_train_full['exit_date'] == 0]\n",
    "# churn_users = df_train_full[df_train_full['exit_date'] == 1]\n",
    "\n",
    "# df_train_full.exit_date.value_counts()"
   ]
  },
  {
   "cell_type": "code",
   "execution_count": 10,
   "id": "e999b359-67b9-4c33-b57a-b126d36c1744",
   "metadata": {},
   "outputs": [],
   "source": [
    "# mbk = MiniBatchKMeans(\n",
    "#     init=\"k-means++\",\n",
    "#     n_clusters=200,\n",
    "#     batch_size=45,\n",
    "#     n_init=10,\n",
    "#     max_no_improvement=10,\n",
    "#     verbose=0,\n",
    "#     random_state=555\n",
    "# )"
   ]
  },
  {
   "cell_type": "code",
   "execution_count": 11,
   "id": "2c447c2e-f218-4f20-aef5-fa9af8e32a25",
   "metadata": {},
   "outputs": [],
   "source": [
    "# # To use scikit-learn we need the data as dictionary\n",
    "# clust_dict = churn_users[categorical + numerical].to_dict(orient='rows')\n",
    "\n",
    "# dvc = DictVectorizer(sparse=False)\n",
    "# dvc.fit(clust_dict)\n",
    "\n",
    "# # Convert the dictionaries to a matrix\n",
    "# X_clust = dvc.transform(clust_dict)\n",
    "\n",
    "# model = make_pipeline(StandardScaler(), mbk)\n",
    "# tic()\n",
    "# model.fit(X_clust)\n",
    "# toc()\n",
    "\n",
    "# churn_users['clust'] = mbk.labels_"
   ]
  },
  {
   "cell_type": "code",
   "execution_count": 12,
   "id": "e2257d73-8aeb-4c8b-94b3-acfd74eb702f",
   "metadata": {},
   "outputs": [],
   "source": [
    "# clust_df = DataFrame(columns=churn_users.columns)\n",
    "# samples_per_cluster = 15\n",
    "\n",
    "# by_clust = churn_users.groupby('clust')\n",
    "\n",
    "# for groups, data in by_clust:\n",
    "#     samples = len(data)\n",
    "#     if samples > samples_per_cluster:\n",
    "#         clust_df = clust_df.append(data.sample(samples_per_cluster))\n",
    "#     else:\n",
    "#         clust_df = clust_df.append(data.sample(samples))\n",
    "# clust_df.info()"
   ]
  },
  {
   "cell_type": "code",
   "execution_count": 13,
   "id": "fc3414cb-0a3b-4b17-980e-e7b0001ac35c",
   "metadata": {},
   "outputs": [],
   "source": [
    "# clust_df.products = to_numeric(clust_df.products)\n",
    "# clust_df.exit_date = to_numeric(clust_df.exit_date)\n",
    "# df_train_full = no_churn_users.append(clust_df)\n",
    "# del df_train_full[\"clust\"]"
   ]
  },
  {
   "cell_type": "markdown",
   "id": "989a5c8d-c754-4924-9cdc-6c86bf9e04a7",
   "metadata": {},
   "source": [
    "### Feature importance"
   ]
  },
  {
   "cell_type": "markdown",
   "id": "6ef84ce4-886d-46f6-855d-a0c02d765e5a",
   "metadata": {},
   "source": [
    "To determine if a categorical feature influences the decision to leave the service before two years, we group the data according to the values of the categorical features. After that, we compare their means with the global mean. Let's remember that our classification feature (**churn**) is binary, so if we compute the mean result, it represents the percentage of customers that leave the service before two years.\n",
    "\n",
    "#### Risk\n",
    "\n",
    "To have a better idea of the influence of a feature, the computed mean will be compared with the **risk** (ratio between probabilities) based on the global_mean value (the total percentage of churn users)."
   ]
  },
  {
   "cell_type": "code",
   "execution_count": 14,
   "id": "197c2d7c-bb9b-4068-a190-fd165fd8a35f",
   "metadata": {},
   "outputs": [
    {
     "name": "stdout",
     "output_type": "stream",
     "text": [
      "The global mean is 0.201375\n"
     ]
    },
    {
     "data": {
      "text/html": [
       "<div>\n",
       "<style scoped>\n",
       "    .dataframe tbody tr th:only-of-type {\n",
       "        vertical-align: middle;\n",
       "    }\n",
       "\n",
       "    .dataframe tbody tr th {\n",
       "        vertical-align: top;\n",
       "    }\n",
       "\n",
       "    .dataframe thead th {\n",
       "        text-align: right;\n",
       "    }\n",
       "</style>\n",
       "<table border=\"1\" class=\"dataframe\">\n",
       "  <thead>\n",
       "    <tr style=\"text-align: right;\">\n",
       "      <th></th>\n",
       "      <th>mean</th>\n",
       "      <th>risk</th>\n",
       "    </tr>\n",
       "    <tr>\n",
       "      <th>Gender</th>\n",
       "      <th></th>\n",
       "      <th></th>\n",
       "    </tr>\n",
       "  </thead>\n",
       "  <tbody>\n",
       "    <tr>\n",
       "      <th>Female</th>\n",
       "      <td>0.247203</td>\n",
       "      <td>1.227577</td>\n",
       "    </tr>\n",
       "    <tr>\n",
       "      <th>Male</th>\n",
       "      <td>0.162630</td>\n",
       "      <td>0.807597</td>\n",
       "    </tr>\n",
       "  </tbody>\n",
       "</table>\n",
       "</div>"
      ],
      "text/plain": [
       "            mean      risk\n",
       "Gender                    \n",
       "Female  0.247203  1.227577\n",
       "Male    0.162630  0.807597"
      ]
     },
     "metadata": {},
     "output_type": "display_data"
    },
    {
     "data": {
      "text/html": [
       "<div>\n",
       "<style scoped>\n",
       "    .dataframe tbody tr th:only-of-type {\n",
       "        vertical-align: middle;\n",
       "    }\n",
       "\n",
       "    .dataframe tbody tr th {\n",
       "        vertical-align: top;\n",
       "    }\n",
       "\n",
       "    .dataframe thead th {\n",
       "        text-align: right;\n",
       "    }\n",
       "</style>\n",
       "<table border=\"1\" class=\"dataframe\">\n",
       "  <thead>\n",
       "    <tr style=\"text-align: right;\">\n",
       "      <th></th>\n",
       "      <th>mean</th>\n",
       "      <th>risk</th>\n",
       "    </tr>\n",
       "    <tr>\n",
       "      <th>Geography</th>\n",
       "      <th></th>\n",
       "      <th></th>\n",
       "    </tr>\n",
       "  </thead>\n",
       "  <tbody>\n",
       "    <tr>\n",
       "      <th>France</th>\n",
       "      <td>0.158475</td>\n",
       "      <td>0.786967</td>\n",
       "    </tr>\n",
       "    <tr>\n",
       "      <th>Germany</th>\n",
       "      <td>0.319921</td>\n",
       "      <td>1.588685</td>\n",
       "    </tr>\n",
       "    <tr>\n",
       "      <th>Spain</th>\n",
       "      <td>0.165653</td>\n",
       "      <td>0.822612</td>\n",
       "    </tr>\n",
       "  </tbody>\n",
       "</table>\n",
       "</div>"
      ],
      "text/plain": [
       "               mean      risk\n",
       "Geography                    \n",
       "France     0.158475  0.786967\n",
       "Germany    0.319921  1.588685\n",
       "Spain      0.165653  0.822612"
      ]
     },
     "metadata": {},
     "output_type": "display_data"
    },
    {
     "data": {
      "text/html": [
       "<div>\n",
       "<style scoped>\n",
       "    .dataframe tbody tr th:only-of-type {\n",
       "        vertical-align: middle;\n",
       "    }\n",
       "\n",
       "    .dataframe tbody tr th {\n",
       "        vertical-align: top;\n",
       "    }\n",
       "\n",
       "    .dataframe thead th {\n",
       "        text-align: right;\n",
       "    }\n",
       "</style>\n",
       "<table border=\"1\" class=\"dataframe\">\n",
       "  <thead>\n",
       "    <tr style=\"text-align: right;\">\n",
       "      <th></th>\n",
       "      <th>mean</th>\n",
       "      <th>risk</th>\n",
       "    </tr>\n",
       "    <tr>\n",
       "      <th>HasCrCard</th>\n",
       "      <th></th>\n",
       "      <th></th>\n",
       "    </tr>\n",
       "  </thead>\n",
       "  <tbody>\n",
       "    <tr>\n",
       "      <th>0.0</th>\n",
       "      <td>0.205719</td>\n",
       "      <td>1.021573</td>\n",
       "    </tr>\n",
       "    <tr>\n",
       "      <th>1.0</th>\n",
       "      <td>0.199576</td>\n",
       "      <td>0.991065</td>\n",
       "    </tr>\n",
       "  </tbody>\n",
       "</table>\n",
       "</div>"
      ],
      "text/plain": [
       "               mean      risk\n",
       "HasCrCard                    \n",
       "0.0        0.205719  1.021573\n",
       "1.0        0.199576  0.991065"
      ]
     },
     "metadata": {},
     "output_type": "display_data"
    },
    {
     "data": {
      "text/html": [
       "<div>\n",
       "<style scoped>\n",
       "    .dataframe tbody tr th:only-of-type {\n",
       "        vertical-align: middle;\n",
       "    }\n",
       "\n",
       "    .dataframe tbody tr th {\n",
       "        vertical-align: top;\n",
       "    }\n",
       "\n",
       "    .dataframe thead th {\n",
       "        text-align: right;\n",
       "    }\n",
       "</style>\n",
       "<table border=\"1\" class=\"dataframe\">\n",
       "  <thead>\n",
       "    <tr style=\"text-align: right;\">\n",
       "      <th></th>\n",
       "      <th>mean</th>\n",
       "      <th>risk</th>\n",
       "    </tr>\n",
       "    <tr>\n",
       "      <th>IsActiveMember</th>\n",
       "      <th></th>\n",
       "      <th></th>\n",
       "    </tr>\n",
       "  </thead>\n",
       "  <tbody>\n",
       "    <tr>\n",
       "      <th>0.0</th>\n",
       "      <td>0.268942</td>\n",
       "      <td>1.335530</td>\n",
       "    </tr>\n",
       "    <tr>\n",
       "      <th>1.0</th>\n",
       "      <td>0.138156</td>\n",
       "      <td>0.686065</td>\n",
       "    </tr>\n",
       "  </tbody>\n",
       "</table>\n",
       "</div>"
      ],
      "text/plain": [
       "                    mean      risk\n",
       "IsActiveMember                    \n",
       "0.0             0.268942  1.335530\n",
       "1.0             0.138156  0.686065"
      ]
     },
     "metadata": {},
     "output_type": "display_data"
    }
   ],
   "source": [
    "global_mean = df_train_full.churn.mean()\n",
    "print(f\"The global mean is {global_mean}\")\n",
    "\n",
    "for feature in categorical: \n",
    "    df_group = df_train_full.groupby(by=feature).churn.agg(['mean']) \n",
    "    df_group['risk'] = df_group['mean'] / global_mean\n",
    "    display(df_group) "
   ]
  },
  {
   "cell_type": "markdown",
   "id": "153d80e7-d24a-4ece-aa14-b7eee8fb8768",
   "metadata": {},
   "source": [
    "To use the risk, we need to remember that a group with a risk close to 1 is not risky at all (to leave the service).\n",
    "\n",
    "With the previous results we discovered that:  \n",
    ">- The values with less risk are Male, France, and Active members\n",
    ">- The risks from **Gender**, **Geography**, and **IsActiveMember** show that these features can be very important in our final classification"
   ]
  },
  {
   "cell_type": "markdown",
   "id": "7e191705-1fa7-4bc1-97f3-da2ba2a7b0cc",
   "metadata": {},
   "source": [
    "#### Mutual Information"
   ]
  },
  {
   "cell_type": "markdown",
   "id": "2d44dedf-22f1-400c-a1b6-b26ac9697e14",
   "metadata": {},
   "source": [
    "In this subsection, we will utilize mutual information to measure the mutual dependency between two variables (using the categorical features)."
   ]
  },
  {
   "cell_type": "code",
   "execution_count": 15,
   "id": "71f18d9d-a940-4627-b642-586768d905db",
   "metadata": {},
   "outputs": [
    {
     "data": {
      "text/html": [
       "<div>\n",
       "<style scoped>\n",
       "    .dataframe tbody tr th:only-of-type {\n",
       "        vertical-align: middle;\n",
       "    }\n",
       "\n",
       "    .dataframe tbody tr th {\n",
       "        vertical-align: top;\n",
       "    }\n",
       "\n",
       "    .dataframe thead th {\n",
       "        text-align: right;\n",
       "    }\n",
       "</style>\n",
       "<table border=\"1\" class=\"dataframe\">\n",
       "  <thead>\n",
       "    <tr style=\"text-align: right;\">\n",
       "      <th></th>\n",
       "      <th>MI</th>\n",
       "    </tr>\n",
       "  </thead>\n",
       "  <tbody>\n",
       "    <tr>\n",
       "      <th>Geography</th>\n",
       "      <td>0.013939</td>\n",
       "    </tr>\n",
       "    <tr>\n",
       "      <th>IsActiveMember</th>\n",
       "      <td>0.013402</td>\n",
       "    </tr>\n",
       "    <tr>\n",
       "      <th>Gender</th>\n",
       "      <td>0.005505</td>\n",
       "    </tr>\n",
       "    <tr>\n",
       "      <th>HasCrCard</th>\n",
       "      <td>0.000024</td>\n",
       "    </tr>\n",
       "  </tbody>\n",
       "</table>\n",
       "</div>"
      ],
      "text/plain": [
       "                      MI\n",
       "Geography       0.013939\n",
       "IsActiveMember  0.013402\n",
       "Gender          0.005505\n",
       "HasCrCard       0.000024"
      ]
     },
     "execution_count": 15,
     "metadata": {},
     "output_type": "execute_result"
    }
   ],
   "source": [
    "df_mi = df_train_full[categorical].apply(\n",
    "    calculate_mi, \n",
    "    labels=df_train_full.churn\n",
    ")\n",
    "\n",
    "df_mi = df_mi.sort_values(ascending=False).to_frame(name='MI') #D\n",
    "df_mi"
   ]
  },
  {
   "cell_type": "markdown",
   "id": "13cc4b5b-75c5-4946-90f1-39f599c0b5e2",
   "metadata": {},
   "source": [
    "We can conclude that the most important categorical features are **Geography** and **IsActiveMember** (similar as in the risk analysis)."
   ]
  },
  {
   "cell_type": "markdown",
   "id": "1b710347-4e62-4d98-9d4b-3bf7aa81ce06",
   "metadata": {},
   "source": [
    "#### Correlation coeficient"
   ]
  },
  {
   "cell_type": "markdown",
   "id": "9fad1dfb-801f-4fa7-93ed-d700d50dc424",
   "metadata": {},
   "source": [
    "For numerical data, we will use the correlation coefficient to quantify the degree of dependency between features and the target label (if a clients leave the service)."
   ]
  },
  {
   "cell_type": "code",
   "execution_count": 16,
   "id": "da7e241d-6454-4fbd-af79-015590d80b4d",
   "metadata": {},
   "outputs": [
    {
     "data": {
      "text/plain": [
       "EstimatedSalary    0.010040\n",
       "age                0.311728\n",
       "products          -0.130914\n",
       "balance            0.106240\n",
       "score             -0.041139\n",
       "dtype: float64"
      ]
     },
     "execution_count": 16,
     "metadata": {},
     "output_type": "execute_result"
    }
   ],
   "source": [
    "df_train_full[numerical].corrwith(df_train_full.churn, method='spearman')"
   ]
  },
  {
   "cell_type": "markdown",
   "id": "a5e9026a-ecba-4fba-8911-2ca186c6676d",
   "metadata": {},
   "source": [
    "We can conclude that all features are not correlated with the target label."
   ]
  },
  {
   "cell_type": "markdown",
   "id": "81842ebe-658a-47be-a737-ede37db75e11",
   "metadata": {},
   "source": [
    "<!-- ### Feature engineering -->"
   ]
  },
  {
   "cell_type": "markdown",
   "id": "6aab00dd-21f6-4f74-a61b-2af9ea246349",
   "metadata": {},
   "source": [
    "<!-- We are goint to use the one-hot encoding of the df_train as input of our model, so: -->"
   ]
  },
  {
   "cell_type": "code",
   "execution_count": 17,
   "id": "c97e3f51-8fa7-466f-8bc5-cc5232f4455c",
   "metadata": {},
   "outputs": [],
   "source": [
    "# # To use scikit-learn we need the data as dictionary\n",
    "# # train_dict = df_train[categorical + numerical].to_dict(orient='rows')\n",
    "# train_dict = df_train_full[categorical + numerical].to_dict(orient='rows')\n",
    "\n",
    "# dv = DictVectorizer(sparse=False)\n",
    "# dv.fit(train_dict)\n",
    "\n",
    "# # Convert the dictionaries to a matrix\n",
    "# X_train = dv.transform(train_dict)\n",
    "\n",
    "# # Transfor the valitation data in a valid format to our model:\n",
    "# val_dict = df_val[categorical + numerical].to_dict(orient='rows') \n",
    "# X_val = dv.transform(val_dict)\n",
    "\n",
    "# # Show the names of the columns\n",
    "# dv.get_feature_names()"
   ]
  },
  {
   "cell_type": "markdown",
   "id": "2997c66f-ea34-487e-9dce-74bade31409d",
   "metadata": {},
   "source": [
    "### Train and evaluate the ML model\n",
    "#### Training the complete model (with all features)\n",
    "We use a Extreme Gradient Boosting (XGBoost) model because it is flexible, simple to implement, to train, and to use."
   ]
  },
  {
   "cell_type": "code",
   "execution_count": 18,
   "id": "b80589c7-c5d9-4cba-9b6e-f27febe98d60",
   "metadata": {},
   "outputs": [
    {
     "name": "stdout",
     "output_type": "stream",
     "text": [
      "[19:44:38] WARNING: C:/Users/Administrator/workspace/xgboost-win64_release_1.4.0/src/learner.cc:1095: Starting in XGBoost 1.3.0, the default evaluation metric used with the objective 'binary:logistic' was changed from 'error' to 'logloss'. Explicitly set eval_metric if you'd like to restore the old behavior.\n",
      "[0]\tvalidation_0-logloss:0.68960\tvalidation_1-logloss:0.69037\n",
      "[200]\tvalidation_0-logloss:0.34029\tvalidation_1-logloss:0.52206\n",
      "[400]\tvalidation_0-logloss:0.18619\tvalidation_1-logloss:0.51001\n",
      "[475]\tvalidation_0-logloss:0.14721\tvalidation_1-logloss:0.50946\n",
      "Elapsed time is 8.600000 seconds.\n"
     ]
    }
   ],
   "source": [
    "# define model\n",
    "model = XGBClassifier(\n",
    "    n_estimators=4000, \n",
    "    max_depth=30, \n",
    "    learning_rate=0.01,\n",
    "    scale_pos_weight=99\n",
    ")\n",
    "\n",
    "X_t = one_hot_encoding(df_train[categorical + numerical])\n",
    "X_v = one_hot_encoding(df_val[categorical + numerical])\n",
    "\n",
    "# train the model\n",
    "tic()\n",
    "model.fit(X_t, y_train,\n",
    "        eval_set=[(X_t, y_train), (X_v, y_val)],\n",
    "        early_stopping_rounds=50,\n",
    "        verbose=200\n",
    ") \n",
    "toc()"
   ]
  },
  {
   "cell_type": "markdown",
   "id": "01684de2-f863-4726-afed-4da8ddad52ba",
   "metadata": {},
   "source": [
    "#### Complete Model Evaluation"
   ]
  },
  {
   "cell_type": "markdown",
   "id": "08d1417a-fad3-4826-a02c-ae1d6a0e1360",
   "metadata": {},
   "source": [
    "Now we need to predict the values of our validation data:"
   ]
  },
  {
   "cell_type": "code",
   "execution_count": 19,
   "id": "102ea501-af5d-498a-a7fc-f36aba534185",
   "metadata": {},
   "outputs": [
    {
     "data": {
      "text/plain": [
       "0.76945045964052"
      ]
     },
     "execution_count": 19,
     "metadata": {},
     "output_type": "execute_result"
    }
   ],
   "source": [
    "X_test = one_hot_encoding(df_test[categorical + numerical])\n",
    "\n",
    "# predictiong new values\n",
    "y_pred = model.predict(X_test)\n",
    "\n",
    "# Showing the Area under the ROC curve (AUC)\n",
    "roc_auc_score(y_test, y_pred)"
   ]
  },
  {
   "cell_type": "code",
   "execution_count": 20,
   "id": "03614ace-9383-4abb-967f-201bf85b85cc",
   "metadata": {},
   "outputs": [],
   "source": [
    "model.save_model('./models/XGB_model.json')\n",
    "\n",
    "# model = XGBClassifier()\n",
    "# model.load_model('./models/XGB_model.json')"
   ]
  },
  {
   "cell_type": "code",
   "execution_count": 21,
   "id": "a963f879-15a1-4a7f-b274-14dc57ab95b5",
   "metadata": {},
   "outputs": [
    {
     "data": {
      "image/png": "[encoded data removed]",
      "text/plain": [
       "<Figure size 432x288 with 1 Axes>"
      ]
     },
     "metadata": {},
     "output_type": "display_data"
    }
   ],
   "source": [
    "# showing the feature importance plot\n",
    "plot_importance(model, height=0.9 ,max_num_features = 10)\n",
    "plt.show()"
   ]
  },
  {
   "cell_type": "markdown",
   "id": "a4c73ad2-28e3-424c-b934-264036412832",
   "metadata": {},
   "source": [
    "#### Confidence interval of the model"
   ]
  },
  {
   "cell_type": "markdown",
   "id": "b86fbf9e-29f0-4494-92dc-00e2f188282f",
   "metadata": {},
   "source": [
    "To show how safe the model is when trained with the above parameters, we will perform a **k-Fold Cross-Validation** test."
   ]
  },
  {
   "cell_type": "code",
   "execution_count": 22,
   "id": "e1c78bc1-a6a6-4e17-9cac-85735c66ac75",
   "metadata": {},
   "outputs": [
    {
     "name": "stdout",
     "output_type": "stream",
     "text": [
      "[19:44:51] WARNING: C:/Users/Administrator/workspace/xgboost-win64_release_1.4.0/src/learner.cc:1095: Starting in XGBoost 1.3.0, the default evaluation metric used with the objective 'binary:logistic' was changed from 'error' to 'logloss'. Explicitly set eval_metric if you'd like to restore the old behavior.\n",
      "[0]\tvalidation_0-logloss:0.68921\tvalidation_1-logloss:0.69044\n",
      "[500]\tvalidation_0-logloss:0.13615\tvalidation_1-logloss:0.48633\n",
      "[639]\tvalidation_0-logloss:0.08820\tvalidation_1-logloss:0.48490\n",
      "Elapsed time is 15.481006 seconds.\n",
      "[19:45:07] WARNING: C:/Users/Administrator/workspace/xgboost-win64_release_1.4.0/src/learner.cc:1095: Starting in XGBoost 1.3.0, the default evaluation metric used with the objective 'binary:logistic' was changed from 'error' to 'logloss'. Explicitly set eval_metric if you'd like to restore the old behavior.\n",
      "[0]\tvalidation_0-logloss:0.68933\tvalidation_1-logloss:0.69019\n",
      "[272]\tvalidation_0-logloss:0.27266\tvalidation_1-logloss:0.50260\n",
      "Elapsed time is 6.086996 seconds.\n",
      "[19:45:13] WARNING: C:/Users/Administrator/workspace/xgboost-win64_release_1.4.0/src/learner.cc:1095: Starting in XGBoost 1.3.0, the default evaluation metric used with the objective 'binary:logistic' was changed from 'error' to 'logloss'. Explicitly set eval_metric if you'd like to restore the old behavior.\n",
      "[0]\tvalidation_0-logloss:0.68912\tvalidation_1-logloss:0.69066\n",
      "[304]\tvalidation_0-logloss:0.24846\tvalidation_1-logloss:0.53891\n",
      "Elapsed time is 6.601003 seconds.\n",
      "[19:45:20] WARNING: C:/Users/Administrator/workspace/xgboost-win64_release_1.4.0/src/learner.cc:1095: Starting in XGBoost 1.3.0, the default evaluation metric used with the objective 'binary:logistic' was changed from 'error' to 'logloss'. Explicitly set eval_metric if you'd like to restore the old behavior.\n",
      "[0]\tvalidation_0-logloss:0.68907\tvalidation_1-logloss:0.69018\n",
      "[319]\tvalidation_0-logloss:0.23844\tvalidation_1-logloss:0.53218\n",
      "Elapsed time is 7.234999 seconds.\n",
      "[19:45:28] WARNING: C:/Users/Administrator/workspace/xgboost-win64_release_1.4.0/src/learner.cc:1095: Starting in XGBoost 1.3.0, the default evaluation metric used with the objective 'binary:logistic' was changed from 'error' to 'logloss'. Explicitly set eval_metric if you'd like to restore the old behavior.\n",
      "[0]\tvalidation_0-logloss:0.68924\tvalidation_1-logloss:0.69027\n",
      "[303]\tvalidation_0-logloss:0.24189\tvalidation_1-logloss:0.52095\n",
      "Elapsed time is 6.797997 seconds.\n",
      "[19:45:35] WARNING: C:/Users/Administrator/workspace/xgboost-win64_release_1.4.0/src/learner.cc:1095: Starting in XGBoost 1.3.0, the default evaluation metric used with the objective 'binary:logistic' was changed from 'error' to 'logloss'. Explicitly set eval_metric if you'd like to restore the old behavior.\n",
      "[0]\tvalidation_0-logloss:0.68902\tvalidation_1-logloss:0.69054\n",
      "[357]\tvalidation_0-logloss:0.20921\tvalidation_1-logloss:0.55023\n",
      "Elapsed time is 7.777006 seconds.\n",
      "[19:45:43] WARNING: C:/Users/Administrator/workspace/xgboost-win64_release_1.4.0/src/learner.cc:1095: Starting in XGBoost 1.3.0, the default evaluation metric used with the objective 'binary:logistic' was changed from 'error' to 'logloss'. Explicitly set eval_metric if you'd like to restore the old behavior.\n",
      "[0]\tvalidation_0-logloss:0.68919\tvalidation_1-logloss:0.69041\n",
      "[349]\tvalidation_0-logloss:0.21295\tvalidation_1-logloss:0.57009\n",
      "Elapsed time is 7.600001 seconds.\n",
      "[19:45:51] WARNING: C:/Users/Administrator/workspace/xgboost-win64_release_1.4.0/src/learner.cc:1095: Starting in XGBoost 1.3.0, the default evaluation metric used with the objective 'binary:logistic' was changed from 'error' to 'logloss'. Explicitly set eval_metric if you'd like to restore the old behavior.\n",
      "[0]\tvalidation_0-logloss:0.68921\tvalidation_1-logloss:0.69017\n",
      "[339]\tvalidation_0-logloss:0.22708\tvalidation_1-logloss:0.52735\n",
      "Elapsed time is 7.392003 seconds.\n",
      "[19:45:59] WARNING: C:/Users/Administrator/workspace/xgboost-win64_release_1.4.0/src/learner.cc:1095: Starting in XGBoost 1.3.0, the default evaluation metric used with the objective 'binary:logistic' was changed from 'error' to 'logloss'. Explicitly set eval_metric if you'd like to restore the old behavior.\n",
      "[0]\tvalidation_0-logloss:0.68913\tvalidation_1-logloss:0.69031\n",
      "[281]\tvalidation_0-logloss:0.26757\tvalidation_1-logloss:0.53077\n",
      "Elapsed time is 6.005997 seconds.\n"
     ]
    },
    {
     "data": {
      "text/plain": [
       "[0.7676578317852903,\n",
       " 0.768491508133937,\n",
       " 0.7606364574571528,\n",
       " 0.7588005798450168,\n",
       " 0.7694877439137151,\n",
       " 0.7686316970011514,\n",
       " 0.770290101472878,\n",
       " 0.7549349464001289,\n",
       " 0.7763361192142265]"
      ]
     },
     "execution_count": 22,
     "metadata": {},
     "output_type": "execute_result"
    }
   ],
   "source": [
    "kfold = KFold(n_splits=9, shuffle=True, random_state=888)\n",
    "\n",
    "aucs = []\n",
    "\n",
    "X_test = one_hot_encoding(df_test[categorical + numerical])\n",
    "\n",
    "# define model\n",
    "model = XGBClassifier(\n",
    "    n_estimators=4000, \n",
    "    max_depth=30, \n",
    "    learning_rate=0.01,\n",
    "    scale_pos_weight=99\n",
    ")\n",
    "\n",
    "for train_idx, val_idx in kfold.split(df_train_full): \n",
    "    df_train = df_train_full.iloc[train_idx] \n",
    "    df_val = df_train_full.iloc[val_idx] \n",
    "    \n",
    "    y_train = df_train.churn.values \n",
    "    y_val = array(df_val.churn.values)\n",
    "    \n",
    "    del df_train['churn']\n",
    "    del df_val['churn']\n",
    "    \n",
    "    X_t = one_hot_encoding(df_train[categorical + numerical])\n",
    "    X_v = one_hot_encoding(df_val[categorical + numerical])\n",
    "    \n",
    "    # train the model\n",
    "    tic()\n",
    "    model.fit(X_t, y_train,\n",
    "            eval_set=[(X_t, y_train), (X_v, y_val)],\n",
    "            early_stopping_rounds=50,\n",
    "            verbose=500\n",
    "    ) \n",
    "    toc() \n",
    "    \n",
    "    # predictiong new values\n",
    "    y_pred = model.predict(X_test)\n",
    "\n",
    "    # Area under the ROC curve (AUC)  \n",
    "    auc = roc_auc_score(y_test, y_pred) \n",
    "    aucs.append(auc) \n",
    "\n",
    "aucs"
   ]
  },
  {
   "cell_type": "markdown",
   "id": "c206723f-9184-44fc-9df5-d65877c5aade",
   "metadata": {},
   "source": [
    "Finally, the 95% confidence interval is:"
   ]
  },
  {
   "cell_type": "code",
   "execution_count": 23,
   "id": "1733bf8d-d4b7-4320-ab1b-3cc58c32acd6",
   "metadata": {},
   "outputs": [
    {
     "data": {
      "text/plain": [
       "(0.7610120922245072, 0.7712694600473811)"
      ]
     },
     "execution_count": 23,
     "metadata": {},
     "output_type": "execute_result"
    }
   ],
   "source": [
    "confidence_interval_t(aucs)"
   ]
  },
  {
   "cell_type": "markdown",
   "id": "efcaf543-8b72-4548-bf03-9511eb7d58c8",
   "metadata": {},
   "source": [
    "<!-- #### Parameter tunning -->"
   ]
  },
  {
   "cell_type": "code",
   "execution_count": 24,
   "id": "667518ed-ebb7-4768-8e85-a9e8d3c8ae68",
   "metadata": {},
   "outputs": [],
   "source": [
    "# from sklearn.model_selection import RepeatedStratifiedKFold\n",
    "# from sklearn.model_selection import GridSearchCV"
   ]
  },
  {
   "cell_type": "code",
   "execution_count": 25,
   "id": "f2ad8ff0-c023-48df-9cb3-8954b522ff60",
   "metadata": {},
   "outputs": [],
   "source": [
    "# # define model\n",
    "# model2 = XGBClassifier(\n",
    "#     n_estimators=3000, \n",
    "#     max_depth=20, \n",
    "#     learning_rate=0.01,\n",
    "#     #scale_pos_weight=99\n",
    "# )\n",
    "\n",
    "# X_t = one_hot_encoding(df_train_full[categorical + numerical])\n",
    "\n",
    "# # define grid\n",
    "# weights = [10, 25, 50, 75, 99, 100]\n",
    "# param_grid = dict(scale_pos_weight=weights)\n",
    "\n",
    "# # define evaluation procedure\n",
    "# cv = RepeatedStratifiedKFold(n_splits=10, n_repeats=3, random_state=132)\n",
    "\n",
    "# # define grid search\n",
    "# grid = GridSearchCV(\n",
    "#     estimator=model2, \n",
    "#     param_grid=param_grid, \n",
    "#     n_jobs=-1, \n",
    "#     cv=cv, \n",
    "#     scoring='roc_auc'\n",
    "# )\n",
    "\n",
    "# # execute the grid search\n",
    "# tic()\n",
    "# grid_result = grid.fit(X_t, y_full)\n",
    "# toc()\n",
    "\n",
    "# # report the best configuration\n",
    "# print(\"Best: %f using %s\" % \n",
    "#       (grid_result.best_score_, grid_result.best_params_)\n",
    "#      )\n",
    "\n",
    "# # report all configurations\n",
    "# means = grid_result.cv_results_['mean_test_score']\n",
    "# stds = grid_result.cv_results_['std_test_score']\n",
    "# params = grid_result.cv_results_['params']\n",
    "\n",
    "# for mean, stdev, param in zip(means, stds, params):\n",
    "#     print(\"%f (%f) with: %r\" % (mean, stdev, param))"
   ]
  },
  {
   "cell_type": "code",
   "execution_count": 26,
   "id": "26194fb2-69f2-4805-8554-d85a6a94ca73",
   "metadata": {},
   "outputs": [],
   "source": [
    "# X_test = one_hot_encoding(df_test[categorical + numerical])\n",
    "\n",
    "# # predictiong new values\n",
    "# y_pred = grid.predict(X_test)\n",
    "\n",
    "# # Showing the Area under the ROC curve (AUC)\n",
    "# roc_auc_score(y_test, y_pred)"
   ]
  }
 ],
 "metadata": {
  "kernelspec": {
   "display_name": "hackathon",
   "language": "python",
   "name": "hackathon"
  },
  "language_info": {
   "codemirror_mode": {
    "name": "ipython",
    "version": 3
   },
   "file_extension": ".py",
   "mimetype": "text/x-python",
   "name": "python",
   "nbconvert_exporter": "python",
   "pygments_lexer": "ipython3",
   "version": "3.8.11"
  }
 },
 "nbformat": 4,
 "nbformat_minor": 5
}
